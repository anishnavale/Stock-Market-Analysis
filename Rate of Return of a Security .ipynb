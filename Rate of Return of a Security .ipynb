{
 "cells": [
  {
   "cell_type": "code",
   "execution_count": 1,
   "metadata": {
    "scrolled": false
   },
   "outputs": [
    {
     "name": "stderr",
     "output_type": "stream",
     "text": [
      "C:\\Users\\user\\anaconda3\\lib\\site-packages\\pandas_datareader\\compat\\__init__.py:7: FutureWarning: pandas.util.testing is deprecated. Use the functions in the public API at pandas.testing instead.\n",
      "  from pandas.util.testing import assert_frame_equal\n"
     ]
    }
   ],
   "source": [
    "#Importing required libraries\n",
    "import numpy as np\n",
    "import pandas\n",
    "from pandas_datareader import data as wb\n",
    "import matplotlib.pyplot as plt\n",
    "import datetime as dt"
   ]
  },
  {
   "cell_type": "code",
   "execution_count": 2,
   "metadata": {},
   "outputs": [],
   "source": [
    "#Setting start date as 1st April 2010 and end date as 1st April 2020\n",
    "start=dt.datetime(2010,4,1)\n",
    "end=dt.datetime(2020,4,1)"
   ]
  },
  {
   "cell_type": "code",
   "execution_count": 3,
   "metadata": {},
   "outputs": [],
   "source": [
    "#Imporing data from Yahoo Finance\n",
    "#Taking Google stock data\n",
    "GOOGL = wb.DataReader(\"GOOGL\",'yahoo',start,end)"
   ]
  },
  {
   "cell_type": "code",
   "execution_count": 4,
   "metadata": {},
   "outputs": [
    {
     "data": {
      "text/html": [
       "<div>\n",
       "<style scoped>\n",
       "    .dataframe tbody tr th:only-of-type {\n",
       "        vertical-align: middle;\n",
       "    }\n",
       "\n",
       "    .dataframe tbody tr th {\n",
       "        vertical-align: top;\n",
       "    }\n",
       "\n",
       "    .dataframe thead th {\n",
       "        text-align: right;\n",
       "    }\n",
       "</style>\n",
       "<table border=\"1\" class=\"dataframe\">\n",
       "  <thead>\n",
       "    <tr style=\"text-align: right;\">\n",
       "      <th></th>\n",
       "      <th>High</th>\n",
       "      <th>Low</th>\n",
       "      <th>Open</th>\n",
       "      <th>Close</th>\n",
       "      <th>Volume</th>\n",
       "      <th>Adj Close</th>\n",
       "    </tr>\n",
       "    <tr>\n",
       "      <th>Date</th>\n",
       "      <th></th>\n",
       "      <th></th>\n",
       "      <th></th>\n",
       "      <th></th>\n",
       "      <th></th>\n",
       "      <th></th>\n",
       "    </tr>\n",
       "  </thead>\n",
       "  <tbody>\n",
       "    <tr>\n",
       "      <th>2010-03-31</th>\n",
       "      <td>285.155151</td>\n",
       "      <td>281.686676</td>\n",
       "      <td>282.807800</td>\n",
       "      <td>283.843842</td>\n",
       "      <td>6055500.0</td>\n",
       "      <td>283.843842</td>\n",
       "    </tr>\n",
       "    <tr>\n",
       "      <th>2010-04-01</th>\n",
       "      <td>287.012024</td>\n",
       "      <td>283.058044</td>\n",
       "      <td>285.960968</td>\n",
       "      <td>284.684692</td>\n",
       "      <td>4201100.0</td>\n",
       "      <td>284.684692</td>\n",
       "    </tr>\n",
       "    <tr>\n",
       "      <th>2010-04-05</th>\n",
       "      <td>287.727722</td>\n",
       "      <td>284.784790</td>\n",
       "      <td>285.735748</td>\n",
       "      <td>285.790802</td>\n",
       "      <td>3799100.0</td>\n",
       "      <td>285.790802</td>\n",
       "    </tr>\n",
       "    <tr>\n",
       "      <th>2010-04-06</th>\n",
       "      <td>285.730743</td>\n",
       "      <td>282.982971</td>\n",
       "      <td>285.015015</td>\n",
       "      <td>284.394409</td>\n",
       "      <td>4116000.0</td>\n",
       "      <td>284.394409</td>\n",
       "    </tr>\n",
       "    <tr>\n",
       "      <th>2010-04-07</th>\n",
       "      <td>284.659668</td>\n",
       "      <td>281.211212</td>\n",
       "      <td>283.933929</td>\n",
       "      <td>282.052063</td>\n",
       "      <td>5156800.0</td>\n",
       "      <td>282.052063</td>\n",
       "    </tr>\n",
       "  </tbody>\n",
       "</table>\n",
       "</div>"
      ],
      "text/plain": [
       "                  High         Low        Open       Close     Volume  \\\n",
       "Date                                                                    \n",
       "2010-03-31  285.155151  281.686676  282.807800  283.843842  6055500.0   \n",
       "2010-04-01  287.012024  283.058044  285.960968  284.684692  4201100.0   \n",
       "2010-04-05  287.727722  284.784790  285.735748  285.790802  3799100.0   \n",
       "2010-04-06  285.730743  282.982971  285.015015  284.394409  4116000.0   \n",
       "2010-04-07  284.659668  281.211212  283.933929  282.052063  5156800.0   \n",
       "\n",
       "             Adj Close  \n",
       "Date                    \n",
       "2010-03-31  283.843842  \n",
       "2010-04-01  284.684692  \n",
       "2010-04-05  285.790802  \n",
       "2010-04-06  284.394409  \n",
       "2010-04-07  282.052063  "
      ]
     },
     "execution_count": 4,
     "metadata": {},
     "output_type": "execute_result"
    }
   ],
   "source": [
    "GOOGL.head()"
   ]
  },
  {
   "cell_type": "code",
   "execution_count": 5,
   "metadata": {},
   "outputs": [
    {
     "data": {
      "text/html": [
       "<div>\n",
       "<style scoped>\n",
       "    .dataframe tbody tr th:only-of-type {\n",
       "        vertical-align: middle;\n",
       "    }\n",
       "\n",
       "    .dataframe tbody tr th {\n",
       "        vertical-align: top;\n",
       "    }\n",
       "\n",
       "    .dataframe thead th {\n",
       "        text-align: right;\n",
       "    }\n",
       "</style>\n",
       "<table border=\"1\" class=\"dataframe\">\n",
       "  <thead>\n",
       "    <tr style=\"text-align: right;\">\n",
       "      <th></th>\n",
       "      <th>High</th>\n",
       "      <th>Low</th>\n",
       "      <th>Open</th>\n",
       "      <th>Close</th>\n",
       "      <th>Volume</th>\n",
       "      <th>Adj Close</th>\n",
       "    </tr>\n",
       "    <tr>\n",
       "      <th>Date</th>\n",
       "      <th></th>\n",
       "      <th></th>\n",
       "      <th></th>\n",
       "      <th></th>\n",
       "      <th></th>\n",
       "      <th></th>\n",
       "    </tr>\n",
       "  </thead>\n",
       "  <tbody>\n",
       "    <tr>\n",
       "      <th>2020-03-26</th>\n",
       "      <td>1171.479980</td>\n",
       "      <td>1092.030029</td>\n",
       "      <td>1114.719971</td>\n",
       "      <td>1162.920044</td>\n",
       "      <td>3828100.0</td>\n",
       "      <td>1162.920044</td>\n",
       "    </tr>\n",
       "    <tr>\n",
       "      <th>2020-03-27</th>\n",
       "      <td>1151.050049</td>\n",
       "      <td>1104.000000</td>\n",
       "      <td>1127.469971</td>\n",
       "      <td>1110.260010</td>\n",
       "      <td>3139700.0</td>\n",
       "      <td>1110.260010</td>\n",
       "    </tr>\n",
       "    <tr>\n",
       "      <th>2020-03-30</th>\n",
       "      <td>1151.000000</td>\n",
       "      <td>1098.489990</td>\n",
       "      <td>1132.640015</td>\n",
       "      <td>1146.310059</td>\n",
       "      <td>2936800.0</td>\n",
       "      <td>1146.310059</td>\n",
       "    </tr>\n",
       "    <tr>\n",
       "      <th>2020-03-31</th>\n",
       "      <td>1173.400024</td>\n",
       "      <td>1136.719971</td>\n",
       "      <td>1148.729980</td>\n",
       "      <td>1161.949951</td>\n",
       "      <td>3261400.0</td>\n",
       "      <td>1161.949951</td>\n",
       "    </tr>\n",
       "    <tr>\n",
       "      <th>2020-04-01</th>\n",
       "      <td>1129.420044</td>\n",
       "      <td>1093.489990</td>\n",
       "      <td>1124.000000</td>\n",
       "      <td>1102.099976</td>\n",
       "      <td>2598500.0</td>\n",
       "      <td>1102.099976</td>\n",
       "    </tr>\n",
       "  </tbody>\n",
       "</table>\n",
       "</div>"
      ],
      "text/plain": [
       "                   High          Low         Open        Close     Volume  \\\n",
       "Date                                                                        \n",
       "2020-03-26  1171.479980  1092.030029  1114.719971  1162.920044  3828100.0   \n",
       "2020-03-27  1151.050049  1104.000000  1127.469971  1110.260010  3139700.0   \n",
       "2020-03-30  1151.000000  1098.489990  1132.640015  1146.310059  2936800.0   \n",
       "2020-03-31  1173.400024  1136.719971  1148.729980  1161.949951  3261400.0   \n",
       "2020-04-01  1129.420044  1093.489990  1124.000000  1102.099976  2598500.0   \n",
       "\n",
       "              Adj Close  \n",
       "Date                     \n",
       "2020-03-26  1162.920044  \n",
       "2020-03-27  1110.260010  \n",
       "2020-03-30  1146.310059  \n",
       "2020-03-31  1161.949951  \n",
       "2020-04-01  1102.099976  "
      ]
     },
     "execution_count": 5,
     "metadata": {},
     "output_type": "execute_result"
    }
   ],
   "source": [
    "GOOGL.tail()"
   ]
  },
  {
   "cell_type": "markdown",
   "metadata": {},
   "source": [
    "# Calculating Simple Returns:"
   ]
  },
  {
   "cell_type": "code",
   "execution_count": 6,
   "metadata": {},
   "outputs": [
    {
     "data": {
      "text/plain": [
       "Date\n",
       "2010-03-31         NaN\n",
       "2010-04-01    0.002962\n",
       "2010-04-05    0.003885\n",
       "2010-04-06   -0.004886\n",
       "2010-04-07   -0.008236\n",
       "Name: simple_return, dtype: float64"
      ]
     },
     "execution_count": 6,
     "metadata": {},
     "output_type": "execute_result"
    }
   ],
   "source": [
    "#Calculating Simple Returns\n",
    "GOOGL['simple_return']=(GOOGL['Adj Close']/GOOGL['Adj Close'].shift(1))-1\n",
    "GOOGL['simple_return'].head()"
   ]
  },
  {
   "cell_type": "code",
   "execution_count": 7,
   "metadata": {},
   "outputs": [
    {
     "data": {
      "text/plain": [
       "Date\n",
       "2020-03-26    0.055645\n",
       "2020-03-27   -0.045283\n",
       "2020-03-30    0.032470\n",
       "2020-03-31    0.013644\n",
       "2020-04-01   -0.051508\n",
       "Name: simple_return, dtype: float64"
      ]
     },
     "execution_count": 7,
     "metadata": {},
     "output_type": "execute_result"
    }
   ],
   "source": [
    "GOOGL['simple_return'].tail()"
   ]
  },
  {
   "cell_type": "code",
   "execution_count": 8,
   "metadata": {},
   "outputs": [
    {
     "data": {
      "image/png": "[encoded data removed]",
      "text/plain": [
       "<Figure size 576x360 with 1 Axes>"
      ]
     },
     "metadata": {
      "needs_background": "light"
     },
     "output_type": "display_data"
    }
   ],
   "source": [
    "#Plotting the Simple Returns\n",
    "GOOGL['simple_return'].plot(figsize=(8,5))\n",
    "plt.show()"
   ]
  },
  {
   "cell_type": "code",
   "execution_count": 9,
   "metadata": {},
   "outputs": [
    {
     "data": {
      "text/plain": [
       "0.16705284101013276"
      ]
     },
     "execution_count": 9,
     "metadata": {},
     "output_type": "execute_result"
    }
   ],
   "source": [
    "#Annual average simple returns\n",
    "#There are approximately 250 Trading days(Excluding the weekends and bank holidays)\n",
    "avg_returns=GOOGL['simple_return'].mean()*250\n",
    "avg_returns"
   ]
  },
  {
   "cell_type": "code",
   "execution_count": 10,
   "metadata": {},
   "outputs": [
    {
     "name": "stdout",
     "output_type": "stream",
     "text": [
      "16.71%\n"
     ]
    }
   ],
   "source": [
    "print (str( round(avg_returns, 4)*100)+'%')"
   ]
  },
  {
   "cell_type": "markdown",
   "metadata": {},
   "source": [
    "# Calculating Log Returns:"
   ]
  },
  {
   "cell_type": "code",
   "execution_count": 11,
   "metadata": {},
   "outputs": [
    {
     "data": {
      "text/plain": [
       "Date\n",
       "2010-03-31         NaN\n",
       "2010-04-01    0.002958\n",
       "2010-04-05    0.003878\n",
       "2010-04-06   -0.004898\n",
       "2010-04-07   -0.008270\n",
       "Name: log_return, dtype: float64"
      ]
     },
     "execution_count": 11,
     "metadata": {},
     "output_type": "execute_result"
    }
   ],
   "source": [
    "#Calculating Log Returns\n",
    "GOOGL['log_return']=np.log(GOOGL['Adj Close']/GOOGL['Adj Close'].shift(1))\n",
    "GOOGL['log_return'].head()"
   ]
  },
  {
   "cell_type": "code",
   "execution_count": 12,
   "metadata": {},
   "outputs": [
    {
     "data": {
      "image/png": "[encoded data removed]",
      "text/plain": [
       "<Figure size 576x360 with 1 Axes>"
      ]
     },
     "metadata": {
      "needs_background": "light"
     },
     "output_type": "display_data"
    }
   ],
   "source": [
    "#Plotting the Log Returns\n",
    "GOOGL['log_return'].plot(figsize=(8,5))\n",
    "plt.show()"
   ]
  },
  {
   "cell_type": "code",
   "execution_count": 13,
   "metadata": {},
   "outputs": [
    {
     "data": {
      "text/plain": [
       "0.13468511460449867"
      ]
     },
     "execution_count": 13,
     "metadata": {},
     "output_type": "execute_result"
    }
   ],
   "source": [
    "#Annual average log returns\n",
    "#There are approximately 250 Trading days(Excluding the weekends and bank holidays)\n",
    "avg_log_returns=GOOGL['log_return'].mean()*250\n",
    "avg_log_returns"
   ]
  },
  {
   "cell_type": "code",
   "execution_count": 14,
   "metadata": {},
   "outputs": [
    {
     "name": "stdout",
     "output_type": "stream",
     "text": [
      "13.469999999999999%\n"
     ]
    }
   ],
   "source": [
    "print (str( round(avg_log_returns, 4)*100)+'%')"
   ]
  },
  {
   "cell_type": "code",
   "execution_count": 15,
   "metadata": {},
   "outputs": [],
   "source": [
    "#There is a small significant difference between Simple and Log Returns\n",
    "#Simple Returns are preferred for Multiple Securites whereas Log Returns are preferred for single security"
   ]
  }
 ],
 "metadata": {
  "kernelspec": {
   "display_name": "Python 3",
   "language": "python",
   "name": "python3"
  },
  "language_info": {
   "codemirror_mode": {
    "name": "ipython",
    "version": 3
   },
   "file_extension": ".py",
   "mimetype": "text/x-python",
   "name": "python",
   "nbconvert_exporter": "python",
   "pygments_lexer": "ipython3",
   "version": "3.7.6"
  }
 },
 "nbformat": 4,
 "nbformat_minor": 4
}
